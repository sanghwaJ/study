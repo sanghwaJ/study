{
 "cells": [
  {
   "cell_type": "code",
   "execution_count": 18,
   "metadata": {},
   "outputs": [
    {
     "name": "stdout",
     "output_type": "stream",
     "text": [
      "['EMPTY', 'group']\n"
     ]
    }
   ],
   "source": [
    "# kakao blind 5번\n",
    "\n",
    "def solution(commands):\n",
    "    answer = []\n",
    "    table = []\n",
    "    for i in range(50):\n",
    "        table.append([\"EMPTY\" for i in range(50)])\n",
    "\n",
    "    mergeList = []\n",
    "    for i in range(len(commands)):\n",
    "        divCommand = commands[i].split(\" \")\n",
    "        # UPDATE\n",
    "        if divCommand[0] == \"UPDATE\":\n",
    "            if len(divCommand) > 3:\n",
    "                if len(mergeList) == 0:\n",
    "                    table[int(divCommand[1])][int(divCommand[2])] = divCommand[3]\n",
    "                else:\n",
    "                    for mergeElement in mergeList:\n",
    "                        if divCommand[1]+divCommand[2] in mergeElement:\n",
    "                            for e in mergeElement:\n",
    "                                table[int(e[0])][int(e[1])] = divCommand[3]\n",
    "                        else:\n",
    "                            table[int(divCommand[1])][int(divCommand[2])] = divCommand[3]\n",
    "            else:\n",
    "                for j in range(i):\n",
    "                    if divCommand[1] in commands[j]:\n",
    "                        _divCommand = commands[j].split(\" \")\n",
    "                        table[int(_divCommand[1])][int(_divCommand[2])] = divCommand[2]\n",
    "        # MERGE\n",
    "        if divCommand[0] == \"MERGE\":\n",
    "            temp = table[int(divCommand[1])][int(divCommand[2])]\n",
    "            changeCell = divCommand[1]+divCommand[2]\n",
    "            baseCell = divCommand[3]+divCommand[4]\n",
    "            \n",
    "            if len(mergeList) == 0:\n",
    "                table[int(divCommand[3])][int(divCommand[4])] = temp\n",
    "                mergeList.append([changeCell, baseCell])\n",
    "            else:\n",
    "                for mergeElement in mergeList:\n",
    "                    if changeCell in mergeElement:\n",
    "                        for e in mergeElement:\n",
    "                            table[int(e[0])][int(e[1])] = temp\n",
    "                    else:\n",
    "                        table[int(divCommand[3])][int(divCommand[4])] = temp\n",
    "            # mergeList에 추가\n",
    "            for i in range(len(mergeList)):\n",
    "                if changeCell in mergeList[i] and baseCell not in mergeList[i]:\n",
    "                    mergeList[i].append(baseCell)\n",
    "                elif baseCell in mergeList[i] and changeCell not in mergeList[i]:\n",
    "                    mergeList[i].append(changeCell)\n",
    "                elif changeCell not in mergeList[i] and baseCell not in mergeList[i]:\n",
    "                    mergeList.append([changeCell, baseCell])\n",
    "        # UNMERGE\n",
    "        if divCommand[0] == \"UNMERGE\":\n",
    "            for i in range(len(mergeList)):\n",
    "                if divCommand[1]+divCommand[2] in mergeList[i]:\n",
    "                    for j in range(len(mergeList[i])):\n",
    "                        if divCommand[1]+divCommand[2] != mergeList[i][j]:\n",
    "                            table[int(mergeList[i][j][0])][int(mergeList[i][j][1])] = \"EMPTY\"\n",
    "                    del mergeList[i]\n",
    "        # PRINT        \n",
    "        if divCommand[0] == \"PRINT\":\n",
    "            answer.append(table[int(divCommand[1])][int(divCommand[2])])\n",
    "\n",
    "    return answer\n",
    "\n",
    "# result => [\"EMPTY\", \"group\"]\n",
    "commands = [\"UPDATE 1 1 menu\", \"UPDATE 1 2 category\", \"UPDATE 2 1 bibimbap\", \"UPDATE 2 2 korean\", \"UPDATE 2 3 rice\", \"UPDATE 3 1 ramyeon\", \"UPDATE 3 2 korean\", \"UPDATE 3 3 noodle\", \"UPDATE 3 4 instant\", \"UPDATE 4 1 pasta\", \"UPDATE 4 2 italian\", \"UPDATE 4 3 noodle\", \"MERGE 1 2 1 3\", \"MERGE 1 3 1 4\", \"UPDATE korean hansik\", \"UPDATE 1 3 group\", \"UNMERGE 1 4\", \"PRINT 1 3\", \"PRINT 1 4\"]\n",
    "\n",
    "# result => [\"d\", \"EMPTY\"]\n",
    "# commands = [\"UPDATE 1 1 a\", \"UPDATE 1 2 b\", \"UPDATE 2 1 c\", \"UPDATE 2 2 d\", \"MERGE 1 1 1 2\", \"MERGE 2 2 2 1\", \"MERGE 2 1 1 1\", \"PRINT 1 1\", \"UNMERGE 2 2\", \"PRINT 1 1\"]\n",
    "\n",
    "print(solution(commands))"
   ]
  }
 ],
 "metadata": {
  "kernelspec": {
   "display_name": "Python 3.9.13 64-bit",
   "language": "python",
   "name": "python3"
  },
  "language_info": {
   "codemirror_mode": {
    "name": "ipython",
    "version": 3
   },
   "file_extension": ".py",
   "mimetype": "text/x-python",
   "name": "python",
   "nbconvert_exporter": "python",
   "pygments_lexer": "ipython3",
   "version": "3.9.13"
  },
  "orig_nbformat": 4,
  "vscode": {
   "interpreter": {
    "hash": "b0fa6594d8f4cbf19f97940f81e996739fb7646882a419484c72d19e05852a7e"
   }
  }
 },
 "nbformat": 4,
 "nbformat_minor": 2
}
