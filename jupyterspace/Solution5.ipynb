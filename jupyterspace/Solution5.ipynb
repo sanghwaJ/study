{
 "cells": [
  {
   "cell_type": "code",
   "execution_count": 7,
   "metadata": {},
   "outputs": [
    {
     "name": "stdout",
     "output_type": "stream",
     "text": [
      "54\n"
     ]
    }
   ],
   "source": [
    "# Softeer - 택배 마스터 광우\n",
    "\n",
    "import sys\n",
    "#input = sys.stdin.readline\n",
    "from itertools import permutations\n",
    "\n",
    "N, M, K = map(int, input().split())\n",
    "rails = list(map(int, input().split()))\n",
    "permutations_rails = list(permutations(rails, N))\n",
    "\n",
    "answer_list = []\n",
    "for i in range(len(permutations_rails)):\n",
    "    answer = 0\n",
    "    idx = 0\n",
    "    for j in range(K):\n",
    "        weight = 0\n",
    "        # while True 후, 원하는 조건 발생 시, break\n",
    "        while True:\n",
    "           weight += permutations_rails[i][idx]\n",
    "           # idx가 N보다 커질 경우 0번째로 restart\n",
    "           idx = (idx + 1) % N\n",
    "           if weight + permutations_rails[i][idx] > M:\n",
    "               break\n",
    "        answer += weight\n",
    "    answer_list.append(answer)\n",
    "        \n",
    "print(min(answer_list))\n",
    "        "
   ]
  }
 ],
 "metadata": {
  "kernelspec": {
   "display_name": "sanghwaJ",
   "language": "python",
   "name": "conda"
  },
  "language_info": {
   "codemirror_mode": {
    "name": "ipython",
    "version": 3
   },
   "file_extension": ".py",
   "mimetype": "text/x-python",
   "name": "python",
   "nbconvert_exporter": "python",
   "pygments_lexer": "ipython3",
   "version": "3.9.7"
  },
  "orig_nbformat": 4
 },
 "nbformat": 4,
 "nbformat_minor": 2
}
