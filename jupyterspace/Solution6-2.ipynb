{
 "cells": [
  {
   "cell_type": "code",
   "execution_count": null,
   "metadata": {},
   "outputs": [],
   "source": [
    "# Softeer - 회의실 예약 (2)\n",
    "\n",
    "import sys\n",
    "#input = sys.stdin.readline\n",
    "\n",
    "N, M = map(int, input().split())\n",
    "\n",
    "time_table = {}\n",
    "for n in range(N):\n",
    "    room_name = input()\n",
    "    time_table[room_name] = [0] * 18\n",
    "\n",
    "for m in range(M):\n",
    "    room, start, end = input().split()\n",
    "    start = int(start)\n",
    "    end = int(end)\n",
    "    for j in range(start, end):\n",
    "        time_table[room][j] = 1\n",
    "\n",
    "time_table = sorted(time_table.items())\n",
    "\n",
    "for i in range(N):\n",
    "    # boolean 활용\n",
    "    start_check = True \n",
    "    temp = []\n",
    "    for j in range(9, 18):\n",
    "        if start_check and time_table[i][1][j] == 0:\n",
    "            start_time = j\n",
    "            start_check = False\n",
    "        elif not start_check and time_table[i][1][j] == 1:\n",
    "            end_time = j\n",
    "            start_check = True\n",
    "            temp.append([start_time, end_time])\n",
    "    if not start_check:\n",
    "        temp.append([start_time, 18])\n",
    "     \n",
    "    print(\"Room \" + time_table[i][0] + \":\")\n",
    "    if len(temp) == 0:\n",
    "        print(\"Not available\")\n",
    "    else:\n",
    "        print(str(len(temp)) + \" available:\" )\n",
    "        for j in range(len(temp)):\n",
    "            # python format\n",
    "            print(f\"{temp[j][0]:02d}-{temp[j][1]}\")\n",
    "    if i != N - 1:\n",
    "        print(\"-----\")"
   ]
  }
 ],
 "metadata": {
  "kernelspec": {
   "display_name": "sanghwaJ",
   "language": "python",
   "name": "conda"
  },
  "language_info": {
   "codemirror_mode": {
    "name": "ipython",
    "version": 3
   },
   "file_extension": ".py",
   "mimetype": "text/x-python",
   "name": "python",
   "nbconvert_exporter": "python",
   "pygments_lexer": "ipython3",
   "version": "3.9.7"
  },
  "orig_nbformat": 4
 },
 "nbformat": 4,
 "nbformat_minor": 2
}
