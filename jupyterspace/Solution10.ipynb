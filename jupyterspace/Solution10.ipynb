{
 "cells": [
  {
   "cell_type": "code",
   "execution_count": null,
   "metadata": {},
   "outputs": [],
   "source": [
    "# Softeer - 장애물 인식 프로그램\n",
    "\n",
    "import sys\n",
    "# input = sys.stdin.readline\n",
    "\n",
    "def dfs(x, y):\n",
    "    if x < 0 or x >= N or y < 0 or y >= N:\n",
    "        return False\n",
    "    if blocks[x][y] == 1:\n",
    "        cnt.append(1)\n",
    "        blocks[x][y] = 0\n",
    "        \n",
    "        dfs(x, y + 1)\n",
    "        dfs(x + 1, y)\n",
    "        dfs(x, y - 1)\n",
    "        dfs(x - 1, y)\n",
    "        return True\n",
    "    return False\n",
    "\n",
    "N = int(input())\n",
    "\n",
    "blocks = []\n",
    "for i in range(N):\n",
    "    blocks.append(list(map(int, input())))\n",
    "\n",
    "cnt = []\n",
    "all_cnt = 0\n",
    "answers = []\n",
    "for i in range(N):\n",
    "    for j in range(N):\n",
    "        if dfs(i, j) == True:\n",
    "            all_cnt += 1\n",
    "            answers.append(len(cnt))\n",
    "            cnt = []\n",
    "\n",
    "print(all_cnt)\n",
    "\n",
    "answers.sort()\n",
    "for answer in answers:\n",
    "    print(answer)"
   ]
  }
 ],
 "metadata": {
  "kernelspec": {
   "display_name": "sanghwaJ",
   "language": "python",
   "name": "conda"
  },
  "language_info": {
   "codemirror_mode": {
    "name": "ipython",
    "version": 3
   },
   "file_extension": ".py",
   "mimetype": "text/x-python",
   "name": "python",
   "nbconvert_exporter": "python",
   "pygments_lexer": "ipython3",
   "version": "3.9.7"
  },
  "orig_nbformat": 4
 },
 "nbformat": 4,
 "nbformat_minor": 2
}
