{
 "cells": [
  {
   "cell_type": "code",
   "execution_count": 6,
   "metadata": {},
   "outputs": [
    {
     "name": "stdout",
     "output_type": "stream",
     "text": [
      "4\n"
     ]
    }
   ],
   "source": [
    "# Softeer - 지도 자동 구축\n",
    "\n",
    "import sys\n",
    "#input = sys.stdin.readline\n",
    "import math\n",
    "\n",
    "N = int(input())\n",
    "\n",
    "square = 4 ** (N)\n",
    "\n",
    "dots_for_line = int(math.sqrt(square))\n",
    "\n",
    "print((dots_for_line + 1) ** 2)"
   ]
  }
 ],
 "metadata": {
  "kernelspec": {
   "display_name": "sanghwaJ",
   "language": "python",
   "name": "conda"
  },
  "language_info": {
   "codemirror_mode": {
    "name": "ipython",
    "version": 3
   },
   "file_extension": ".py",
   "mimetype": "text/x-python",
   "name": "python",
   "nbconvert_exporter": "python",
   "pygments_lexer": "ipython3",
   "version": "3.9.7"
  },
  "orig_nbformat": 4
 },
 "nbformat": 4,
 "nbformat_minor": 2
}
