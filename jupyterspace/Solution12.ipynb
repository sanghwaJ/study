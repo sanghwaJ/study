{
 "cells": [
  {
   "cell_type": "code",
   "execution_count": 1,
   "metadata": {},
   "outputs": [
    {
     "ename": "ValueError",
     "evalue": "not enough values to unpack (expected 3, got 1)",
     "output_type": "error",
     "traceback": [
      "\u001b[0;31m---------------------------------------------------------------------------\u001b[0m",
      "\u001b[0;31mValueError\u001b[0m                                Traceback (most recent call last)",
      "\u001b[1;32m/Users/jeongsanghwa/Desktop/gitspace/new_study/pythonspace/Solution12.ipynb Cell 1\u001b[0m in \u001b[0;36m<cell line: 6>\u001b[0;34m()\u001b[0m\n\u001b[1;32m      <a href='vscode-notebook-cell:/Users/jeongsanghwa/Desktop/gitspace/new_study/pythonspace/Solution12.ipynb#ch0000000?line=2'>3</a>\u001b[0m \u001b[39mimport\u001b[39;00m \u001b[39msys\u001b[39;00m\n\u001b[1;32m      <a href='vscode-notebook-cell:/Users/jeongsanghwa/Desktop/gitspace/new_study/pythonspace/Solution12.ipynb#ch0000000?line=3'>4</a>\u001b[0m \u001b[39m# input = sys.stdin.readline\u001b[39;00m\n\u001b[0;32m----> <a href='vscode-notebook-cell:/Users/jeongsanghwa/Desktop/gitspace/new_study/pythonspace/Solution12.ipynb#ch0000000?line=5'>6</a>\u001b[0m N, M, K \u001b[39m=\u001b[39m \u001b[39mmap\u001b[39m(\u001b[39mint\u001b[39m, \u001b[39minput\u001b[39m()\u001b[39m.\u001b[39msplit())\n\u001b[1;32m      <a href='vscode-notebook-cell:/Users/jeongsanghwa/Desktop/gitspace/new_study/pythonspace/Solution12.ipynb#ch0000000?line=6'>7</a>\u001b[0m _secret \u001b[39m=\u001b[39m \u001b[39minput\u001b[39m()\u001b[39m.\u001b[39msplit()\n\u001b[1;32m      <a href='vscode-notebook-cell:/Users/jeongsanghwa/Desktop/gitspace/new_study/pythonspace/Solution12.ipynb#ch0000000?line=7'>8</a>\u001b[0m secret \u001b[39m=\u001b[39m \u001b[39m'\u001b[39m\u001b[39m'\u001b[39m\n",
      "\u001b[0;31mValueError\u001b[0m: not enough values to unpack (expected 3, got 1)"
     ]
    }
   ],
   "source": [
    "# Softeer - 비밀메뉴2\n",
    "\n",
    "import sys\n",
    "# input = sys.stdin.readline\n",
    "\n",
    "N, M, K = map(int, input().split())\n",
    "_secret = input().split()\n",
    "secret = ''\n",
    "for _ in _secret:\n",
    "    secret += _\n",
    "_con = input().split()\n",
    "con = ''\n",
    "for _ in _con:\n",
    "    con += _\n",
    "\n",
    "if secret in con:\n",
    "    print(len(secret))\n",
    "else:\n",
    "    secret_list = []\n",
    "    for i in range(len(secret)):\n",
    "        for j in range(1, len(secret)+1):\n",
    "            if len(secret[i:j]) > 0:\n",
    "                secret_list.append(secret[i:j])\n",
    "    \n",
    "    answer = 0\n",
    "    for secret in secret_list:\n",
    "        if secret in con:\n",
    "            answer = max(answer, len(secret))\n",
    "            \n",
    "    print(answer)\n",
    "\n",
    "    "
   ]
  }
 ],
 "metadata": {
  "kernelspec": {
   "display_name": "Python 3.10.4 64-bit",
   "language": "python",
   "name": "python3"
  },
  "language_info": {
   "codemirror_mode": {
    "name": "ipython",
    "version": 3
   },
   "file_extension": ".py",
   "mimetype": "text/x-python",
   "name": "python",
   "nbconvert_exporter": "python",
   "pygments_lexer": "ipython3",
   "version": "3.10.4"
  },
  "orig_nbformat": 4,
  "vscode": {
   "interpreter": {
    "hash": "c0b2826277f70c8b81eca58cc76ef4beaf0ee6e2891390eea03ebea5b2565483"
   }
  }
 },
 "nbformat": 4,
 "nbformat_minor": 2
}
