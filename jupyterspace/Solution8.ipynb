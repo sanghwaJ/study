{
 "cells": [
  {
   "cell_type": "code",
   "execution_count": 6,
   "metadata": {},
   "outputs": [
    {
     "name": "stdout",
     "output_type": "stream",
     "text": [
      "4\n"
     ]
    }
   ],
   "source": [
    "# Softeer - 성적평균\n",
    "\n",
    "import sys\n",
    "#input = sys.stdin.readline\n",
    "\n",
    "N, K = map(int, input().split())\n",
    "\n",
    "grades = list(map(int, input().split()))\n",
    "\n",
    "for i in range(K):\n",
    "    start, end = map(int, input().split())\n",
    "    sum = 0\n",
    "    for j in range(start - 1, end):\n",
    "        sum += grades[j]\n",
    "    answer = round(sum / (end - start + 1), 2)\n",
    "    print(f'{answer:.2f}')"
   ]
  }
 ],
 "metadata": {
  "kernelspec": {
   "display_name": "sanghwaJ",
   "language": "python",
   "name": "conda"
  },
  "language_info": {
   "codemirror_mode": {
    "name": "ipython",
    "version": 3
   },
   "file_extension": ".py",
   "mimetype": "text/x-python",
   "name": "python",
   "nbconvert_exporter": "python",
   "pygments_lexer": "ipython3",
   "version": "3.9.7"
  },
  "orig_nbformat": 4
 },
 "nbformat": 4,
 "nbformat_minor": 2
}
