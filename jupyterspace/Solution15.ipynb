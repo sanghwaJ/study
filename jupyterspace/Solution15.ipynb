{
 "cells": [
  {
   "cell_type": "code",
   "execution_count": 3,
   "metadata": {},
   "outputs": [],
   "source": [
    "# Codility - PermMissingElem\n",
    "\n",
    "def solution(A):\n",
    "    # write your code in Python 3.6\n",
    "    A = sorted(A)\n",
    "    \n",
    "    for i in range(len(A)):\n",
    "        if i+1 != A[i]:\n",
    "            return i+1\n",
    "\n",
    "    return len(A) + 1"
   ]
  }
 ],
 "metadata": {
  "kernelspec": {
   "display_name": "Python 3.10.4 64-bit",
   "language": "python",
   "name": "python3"
  },
  "language_info": {
   "codemirror_mode": {
    "name": "ipython",
    "version": 3
   },
   "file_extension": ".py",
   "mimetype": "text/x-python",
   "name": "python",
   "nbconvert_exporter": "python",
   "pygments_lexer": "ipython3",
   "version": "3.10.4"
  },
  "orig_nbformat": 4,
  "vscode": {
   "interpreter": {
    "hash": "c0b2826277f70c8b81eca58cc76ef4beaf0ee6e2891390eea03ebea5b2565483"
   }
  }
 },
 "nbformat": 4,
 "nbformat_minor": 2
}
