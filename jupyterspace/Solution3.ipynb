{
 "cells": [
  {
   "cell_type": "code",
   "execution_count": 2,
   "metadata": {},
   "outputs": [
    {
     "data": {
      "text/plain": [
       "12000"
      ]
     },
     "execution_count": 2,
     "metadata": {},
     "output_type": "execute_result"
    }
   ],
   "source": [
    "# BOJ - 2484 주사위 네개\n",
    "\n",
    "N = int(input())\n",
    "\n",
    "def solution(N):\n",
    "    answer = 0\n",
    "    for i in range(N):\n",
    "        dices_list = sorted(list(map(int, input().split())))\n",
    "        dices_set = set(dices_list)\n",
    "        \n",
    "        if len(dices_set) == 1:\n",
    "            answer = max(answer, 50000 + dices_list[0] * 5000)\n",
    "        elif len(dices_set) == 2:\n",
    "            if dices_list[1] == dices_list[2]:\n",
    "                answer = max(answer, 10000 + dices_list[1] * 1000)\n",
    "            else:\n",
    "                answer = max(answer, 2000 + dices_list[0] * 500 + dices_list[2] * 500)\n",
    "        elif len(dices_set) == 3:\n",
    "            temp = 0\n",
    "            for i in range(len(dices_list)):\n",
    "                if dices_list[i] == dices_list[i+1]:\n",
    "                    _temp = dices_list[i]\n",
    "                    break\n",
    "            answer = max(answer, 1000 + _temp * 100)\n",
    "        else:\n",
    "            answer = max(answer, max(dices_list) * 100)\n",
    "    return answer\n",
    "\n",
    "solution(N)"
   ]
  }
 ],
 "metadata": {
  "interpreter": {
   "hash": "cfb76531505aabe42c2077774403c27c7372c4c4e4cd75c9e3e71afdfb4741b7"
  },
  "kernelspec": {
   "display_name": "sanghwaJ",
   "language": "python",
   "name": "conda"
  },
  "language_info": {
   "codemirror_mode": {
    "name": "ipython",
    "version": 3
   },
   "file_extension": ".py",
   "mimetype": "text/x-python",
   "name": "python",
   "nbconvert_exporter": "python",
   "pygments_lexer": "ipython3",
   "version": "3.9.7"
  },
  "orig_nbformat": 4
 },
 "nbformat": 4,
 "nbformat_minor": 2
}
