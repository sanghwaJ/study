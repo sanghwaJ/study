{
 "cells": [
  {
   "cell_type": "code",
   "execution_count": 1,
   "metadata": {},
   "outputs": [
    {
     "data": {
      "text/plain": [
       "0"
      ]
     },
     "execution_count": 1,
     "metadata": {},
     "output_type": "execute_result"
    }
   ],
   "source": [
    "# Codility - Nesting\n",
    "# -> 개발중...\n",
    "def solution(A):\n",
    "    # write your code in Python 3.6\n",
    "    if len(S) < 2:\n",
    "        return 0\n",
    "\n",
    "    if S[0] == \")\":\n",
    "        return 0\n",
    "    \n",
    "    if S[-1] == \"(\":\n",
    "        return 0\n",
    "\n",
    "    stack = []\n",
    "    \n",
    "    for i in range(len(S)):\n",
    "        stack.append(S[i])\n",
    "        \n",
    "        pass\n",
    "    \n",
    "S = \"(()(())())\"\n",
    "solution(S)"
   ]
  }
 ],
 "metadata": {
  "kernelspec": {
   "display_name": "Python 3.10.4 64-bit",
   "language": "python",
   "name": "python3"
  },
  "language_info": {
   "codemirror_mode": {
    "name": "ipython",
    "version": 3
   },
   "file_extension": ".py",
   "mimetype": "text/x-python",
   "name": "python",
   "nbconvert_exporter": "python",
   "pygments_lexer": "ipython3",
   "version": "3.10.4"
  },
  "orig_nbformat": 4,
  "vscode": {
   "interpreter": {
    "hash": "c0b2826277f70c8b81eca58cc76ef4beaf0ee6e2891390eea03ebea5b2565483"
   }
  }
 },
 "nbformat": 4,
 "nbformat_minor": 2
}
