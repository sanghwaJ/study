{
 "cells": [
  {
   "cell_type": "code",
   "execution_count": 23,
   "metadata": {},
   "outputs": [
    {
     "name": "stdout",
     "output_type": "stream",
     "text": [
      "11\n"
     ]
    }
   ],
   "source": [
    "# Softeer - 전광판\n",
    "\n",
    "import sys\n",
    "#input = sys.stdin.readline\n",
    "\n",
    "T = int(input())\n",
    "\n",
    "def solutuon(T):\n",
    "    num_list = {\" \":\"0000000\",\n",
    "                \"0\":\"1110111\", \n",
    "                \"1\":\"0010010\", \n",
    "                \"2\":\"1011101\", \n",
    "                \"3\":\"1011011\", \n",
    "                \"4\":\"0111010\", \n",
    "                \"5\":\"1101011\", \n",
    "                \"6\":\"1101111\", \n",
    "                \"7\":\"1110010\", \n",
    "                \"8\":\"1111111\", \n",
    "                \"9\":\"1111011\"}\n",
    "    \n",
    "    for i in range(T):\n",
    "        answer = 0\n",
    "        A, B = input().split()\n",
    "        A = (5 - len(A)) * \" \" + A\n",
    "        B = (5 - len(B)) * \" \" + B\n",
    "        \n",
    "        for i in range(5):\n",
    "            if A[i] != B[i]:\n",
    "                for j in range(7):\n",
    "                    if num_list[A[i]][j] != num_list[B[i]][j]:\n",
    "                        answer += 1\n",
    "\n",
    "        print(answer) \n",
    "\n",
    "solutuon(T)"
   ]
  }
 ],
 "metadata": {
  "kernelspec": {
   "display_name": "sanghwaJ",
   "language": "python",
   "name": "conda"
  },
  "language_info": {
   "codemirror_mode": {
    "name": "ipython",
    "version": 3
   },
   "file_extension": ".py",
   "mimetype": "text/x-python",
   "name": "python",
   "nbconvert_exporter": "python",
   "pygments_lexer": "ipython3",
   "version": "3.9.7"
  },
  "orig_nbformat": 4
 },
 "nbformat": 4,
 "nbformat_minor": 2
}
