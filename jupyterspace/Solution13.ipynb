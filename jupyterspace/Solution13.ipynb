{
 "cells": [
  {
   "cell_type": "code",
   "execution_count": 7,
   "metadata": {},
   "outputs": [
    {
     "name": "stdout",
     "output_type": "stream",
     "text": [
      "P HP HP HP PP HP PH HP PH PH H\n"
     ]
    }
   ],
   "source": [
    "# 프로그래머스 - 카펫\n",
    "def solution(brown, yellow):\n",
    "    b = int(brown / 2) + 2\n",
    "    \n",
    "    return_list = []\n",
    "    for i in range(3, b):\n",
    "        return_list.append([i, b-i])\n",
    "        \n",
    "    answer = []\n",
    "    for j in return_list:\n",
    "        if (j[0] - 2) * (j[1] - 2) == yellow:\n",
    "            answer.append(j)\n",
    "            \n",
    "    answer.sort(reverse = True)\n",
    "     \n",
    "    return answer[0]"
   ]
  }
 ],
 "metadata": {
  "kernelspec": {
   "display_name": "Python 3.10.4 64-bit",
   "language": "python",
   "name": "python3"
  },
  "language_info": {
   "codemirror_mode": {
    "name": "ipython",
    "version": 3
   },
   "file_extension": ".py",
   "mimetype": "text/x-python",
   "name": "python",
   "nbconvert_exporter": "python",
   "pygments_lexer": "ipython3",
   "version": "3.10.4"
  },
  "orig_nbformat": 4,
  "vscode": {
   "interpreter": {
    "hash": "c0b2826277f70c8b81eca58cc76ef4beaf0ee6e2891390eea03ebea5b2565483"
   }
  }
 },
 "nbformat": 4,
 "nbformat_minor": 2
}
