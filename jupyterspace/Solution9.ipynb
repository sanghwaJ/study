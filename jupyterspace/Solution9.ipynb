{
 "cells": [
  {
   "cell_type": "code",
   "execution_count": null,
   "metadata": {},
   "outputs": [],
   "source": [
    "# Softeer - 8단 변속기\n",
    "\n",
    "import sys\n",
    "#input = sys.stdin.readline\n",
    "\n",
    "nums = list(map(int, input().split()))\n",
    "\n",
    "ascending = False\n",
    "descending = False\n",
    "for i in range(len(nums) - 1):\n",
    "    if nums[i] <= nums[i+1]:\n",
    "        ascending = True\n",
    "    elif nums[i] >= nums[i+1]:\n",
    "        descending = True\n",
    "        \n",
    "if ascending and not descending:\n",
    "    print(\"ascending\")\n",
    "elif not ascending and descending:\n",
    "    print(\"descending\")\n",
    "else:\n",
    "    print(\"mixed\")"
   ]
  }
 ],
 "metadata": {
  "kernelspec": {
   "display_name": "sanghwaJ",
   "language": "python",
   "name": "conda"
  },
  "language_info": {
   "codemirror_mode": {
    "name": "ipython",
    "version": 3
   },
   "file_extension": ".py",
   "mimetype": "text/x-python",
   "name": "python",
   "nbconvert_exporter": "python",
   "pygments_lexer": "ipython3",
   "version": "3.9.7"
  },
  "orig_nbformat": 4
 },
 "nbformat": 4,
 "nbformat_minor": 2
}
